{
 "cells": [
  {
   "cell_type": "code",
   "execution_count": null,
   "metadata": {},
   "outputs": [],
   "source": [
    "import os\n",
    "from vsiprocesssor.vsi_file import VSIFile\n",
    "from vsiprocesssor.vsi_entropy import vsi_has_sufficient_information\n",
    "from model.macenko import MacenkoNormalizer\n",
    "from setup.settings_module import Settings\n",
    "from numpy.random import randint, seed\n",
    "import cv2"
   ]
  },
  {
   "cell_type": "code",
   "execution_count": null,
   "metadata": {},
   "outputs": [],
   "source": [
    "settings = Settings('settings.cfg')\n",
    "\n",
    "data_source = settings.data_source\n",
    "data_dir = settings.data_root\n",
    "train_he_dir = os.path.join(data_dir, settings.data_train_he)\n",
    "train_p63_dir = os.path.join(data_dir, settings.data_train_p63)\n",
    "test_he_dir = os.path.join(data_dir, settings.data_test_he)\n",
    "test_p63_dir = os.path.join(data_dir, settings.data_test_p63)\n",
    "# Create directories if they don't exist\n",
    "os.makedirs(data_dir, exist_ok=True)\n",
    "os.makedirs(train_he_dir, exist_ok=True)\n",
    "os.makedirs(train_p63_dir, exist_ok=True)\n",
    "os.makedirs(test_he_dir, exist_ok=True)\n",
    "os.makedirs(test_p63_dir, exist_ok=True)"
   ]
  },
  {
   "cell_type": "code",
   "execution_count": null,
   "metadata": {},
   "outputs": [],
   "source": [
    "vsi_images = list(map(lambda x: os.path.join(data_source, x),\n",
    "                      filter(lambda x: not os.path.isdir(x) and x.endswith('.vsi'),\n",
    "                             os.listdir(data_source))\n",
    "                      )\n",
    "                  )\n",
    "print('Found {} vsi files'.format(len(vsi_images)))\n",
    "print(vsi_images[0:6])\n",
    "print()\n",
    "\n",
    "# Get Test file\n",
    "test_he = os.path.join(data_source, settings.test_he)\n",
    "test_p63 = os.path.join(data_source, settings.test_p63)\n",
    "print(test_p63)\n",
    "print(test_he)\n",
    "print()\n",
    "# Remove test files from dataset\n",
    "to_remove = []\n",
    "for index in range(len(vsi_images)):\n",
    "    file = vsi_images[index]\n",
    "    if test_he in file or test_p63 in file:\n",
    "        to_remove.append(file)\n",
    "# Remove test files from dataset\n",
    "for file in to_remove:\n",
    "    vsi_images.remove(file)\n",
    "\n",
    "# Split into HE and p63 WSIs\n",
    "vsi_he_images = list(filter(lambda x: 'HE' in x, vsi_images))\n",
    "vsi_p63_images = list(filter(lambda x: 'p63' in x, vsi_images))\n",
    "print('Found {} HE vsi files'.format(len(vsi_he_images)))\n",
    "print('Found {} p63 vsi files'.format(len(vsi_p63_images)))"
   ]
  },
  {
   "cell_type": "code",
   "execution_count": null,
   "metadata": {},
   "outputs": [],
   "source": [
    "macenko_target = os.path.join(data_dir, settings.macenko_target)\n",
    "macenko_target = cv2.imread(macenko_target)\n",
    "macenko_target = cv2.cvtColor(macenko_target, cv2.COLOR_BGR2RGB)\n",
    "normalizer = MacenkoNormalizer()\n",
    "normalizer.fit(macenko_target)\n",
    "\n",
    "seed(42)\n",
    "\n",
    "if len(vsi_he_images) < len(vsi_p63_images):\n",
    "    select_by = len(vsi_he_images)\n",
    "    train_by = len(vsi_p63_images)\n",
    "else:\n",
    "    select_by = len(vsi_p63_images)\n",
    "    train_by = len(vsi_he_images)\n",
    "\n",
    "valid_wsis = randint(0, select_by, int(select_by * 0.2))\n",
    "train_wsis = list(set(range(train_by)) - set(valid_wsis))\n",
    "\n",
    "\n",
    "for index in valid_wsis[0:6]:\n",
    "    with VSIFile(vsi_he_images[train_wsis[index]]) as vsi:\n",
    "        counter = 0\n",
    "        for (patch, x, y) in vsi:\n",
    "            if vsi_has_sufficient_information(patch):\n",
    "                normalized_patch = normalizer.transform(patch)\n",
    "                cv2.cvtColor(normalized_patch, cv2.COLOR_RGB2BGR)\n",
    "                cv2.imwrite(os.path.join(train_he_dir, f'{vsi.vsi_name}_{x}_{y}.png'), normalized_patch)\n",
    "                counter += 1\n",
    "            if counter == 1:\n",
    "                break\n"
   ]
  }
 ],
 "metadata": {
  "kernelspec": {
   "display_name": "pathology",
   "language": "python",
   "name": "python3"
  },
  "language_info": {
   "codemirror_mode": {
    "name": "ipython",
    "version": 3
   },
   "file_extension": ".py",
   "mimetype": "text/x-python",
   "name": "python",
   "nbconvert_exporter": "python",
   "pygments_lexer": "ipython3",
   "version": "3.9.13"
  }
 },
 "nbformat": 4,
 "nbformat_minor": 2
}
