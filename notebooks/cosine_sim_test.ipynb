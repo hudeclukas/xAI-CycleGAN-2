{
 "cells": [
  {
   "cell_type": "code",
   "execution_count": 45,
   "metadata": {
    "collapsed": true
   },
   "outputs": [],
   "source": [
    "import torch\n",
    "from torchmetrics.functional.image.ssim import structural_similarity_index_measure as ssim\n",
    "import numpy as np\n",
    "import cv2 as cv\n",
    "from PIL import Image, ImageOps"
   ]
  },
  {
   "cell_type": "code",
   "execution_count": 25,
   "outputs": [],
   "source": [
    "img1 = Image.open('he.png').convert('RGB')\n",
    "img2 = Image.open('he_blur.png').convert('RGB')\n",
    "img1 = ImageOps.grayscale(img1)\n",
    "img2 = ImageOps.grayscale(img2)\n",
    "img1 = np.asarray(img1)\n",
    "img2 = np.asarray(img2)\n",
    "\n",
    "img3 = Image.open('cat.png').convert('RGB').resize((img1.shape[1], img1.shape[0]))\n",
    "img3 = ImageOps.grayscale(img3)\n",
    "img3 = np.asarray(img3)"
   ],
   "metadata": {
    "collapsed": false
   }
  },
  {
   "cell_type": "code",
   "execution_count": 26,
   "outputs": [
    {
     "name": "stderr",
     "output_type": "stream",
     "text": [
      "G:\\System\\Temp\\ipykernel_23424\\1125852184.py:2: UserWarning: The given NumPy array is not writable, and PyTorch does not support non-writable tensors. This means writing to this tensor will result in undefined behavior. You may want to copy the array to protect its data or make it writable before converting it to a tensor. This type of warning will be suppressed for the rest of this program. (Triggered internally at C:\\cb\\pytorch_1000000000000\\work\\torch\\csrc\\utils\\tensor_numpy.cpp:212.)\n",
      "  img1 = torch.from_numpy(img1).float()\n"
     ]
    }
   ],
   "source": [
    "# convert images to torch tensors\n",
    "img1 = torch.from_numpy(img1).float()\n",
    "img2 = torch.from_numpy(img2).float()\n",
    "img3 = torch.from_numpy(img3).float()"
   ],
   "metadata": {
    "collapsed": false
   }
  },
  {
   "cell_type": "code",
   "execution_count": 39,
   "outputs": [],
   "source": [
    "cossim = torch.nn.CosineSimilarity(dim=0, eps=1e-6)"
   ],
   "metadata": {
    "collapsed": false
   }
  },
  {
   "cell_type": "code",
   "execution_count": 89,
   "outputs": [],
   "source": [
    "x = torch.rand((1, 3, 256, 256))\n",
    "y = torch.rand((1, 3, 256, 256))"
   ],
   "metadata": {
    "collapsed": false
   }
  },
  {
   "cell_type": "code",
   "execution_count": 90,
   "outputs": [
    {
     "data": {
      "text/plain": "tensor(0.0016)"
     },
     "execution_count": 90,
     "metadata": {},
     "output_type": "execute_result"
    }
   ],
   "source": [
    "ssim(x[:, 0:1, :, :], y[:, 0:1, :, :])"
   ],
   "metadata": {
    "collapsed": false
   }
  },
  {
   "cell_type": "code",
   "execution_count": 84,
   "outputs": [],
   "source": [
    "A_AB = -1.72879524581\n",
    "B_AB = 1.71528903296\n",
    "A_L = -1.68976005407\n",
    "B_L = 1.68976005407"
   ],
   "metadata": {
    "collapsed": false
   }
  },
  {
   "cell_type": "code",
   "execution_count": 57,
   "outputs": [],
   "source": [
    "def tanh_correction(x: torch.Tensor) -> torch.Tensor:\n",
    "    x_l = x[:, 0, :, :]\n",
    "    x_ab = x[:, 1:, :, :]\n",
    "    x_l = (B_L - A_L) * (x_l + 1) / 2 + A_L\n",
    "    x_ab = (B_AB - A_AB) * (x_ab + 1) / 2 + A_AB\n",
    "    return torch.cat((x_l.unsqueeze(1), x_ab), dim=1)"
   ],
   "metadata": {
    "collapsed": false
   }
  },
  {
   "cell_type": "code",
   "execution_count": 58,
   "outputs": [],
   "source": [
    "x = torch.ones((1, 3, 256, 256))"
   ],
   "metadata": {
    "collapsed": false
   }
  },
  {
   "cell_type": "code",
   "execution_count": 62,
   "outputs": [],
   "source": [
    "y = tanh_correction(x)"
   ],
   "metadata": {
    "collapsed": false
   }
  },
  {
   "cell_type": "code",
   "execution_count": null,
   "outputs": [],
   "source": [],
   "metadata": {
    "collapsed": false
   }
  }
 ],
 "metadata": {
  "kernelspec": {
   "display_name": "Python 3",
   "language": "python",
   "name": "python3"
  },
  "language_info": {
   "codemirror_mode": {
    "name": "ipython",
    "version": 2
   },
   "file_extension": ".py",
   "mimetype": "text/x-python",
   "name": "python",
   "nbconvert_exporter": "python",
   "pygments_lexer": "ipython2",
   "version": "2.7.6"
  }
 },
 "nbformat": 4,
 "nbformat_minor": 0
}
