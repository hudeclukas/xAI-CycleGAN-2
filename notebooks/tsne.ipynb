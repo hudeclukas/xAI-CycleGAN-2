{
 "cells": [
  {
   "cell_type": "code",
   "execution_count": 18,
   "metadata": {
    "collapsed": true
   },
   "outputs": [],
   "source": [
    "import numpy as np\n",
    "from sklearn.manifold import TSNE\n",
    "from sklearn.decomposition import PCA\n",
    "from src.model.mask import get_mask_noise\n",
    "from src.model.dataset import DefaultTransform\n",
    "from src.model.model import Generator\n",
    "import matplotlib.pyplot as plt\n",
    "import seaborn as sns\n",
    "from PIL import Image\n",
    "import os\n",
    "import torch"
   ]
  },
  {
   "cell_type": "code",
   "execution_count": 2,
   "outputs": [],
   "source": [
    "tf = DefaultTransform()\n",
    "device = torch.device('cuda')"
   ],
   "metadata": {
    "collapsed": false
   }
  },
  {
   "cell_type": "code",
   "execution_count": 7,
   "outputs": [],
   "source": [
    "images = []\n",
    "# format: 'data/test/p63/{int}_4_p63.png'\n",
    "for i in range(0, 3000):\n",
    "    # check if file exists\n",
    "    if not os.path.isfile(f'../data/test/p63/{i}_4_p63.png'):\n",
    "        continue\n",
    "    try:\n",
    "        image = Image.open(f'../data/test/p63/{i}_4_p63.png').convert('RGB')\n",
    "    except:\n",
    "        continue\n",
    "    image = tf(image)\n",
    "    if ((image[1] + image[2]) / 2).mean() >= 0:\n",
    "        images.append(image.unsqueeze(0).to(device))"
   ],
   "metadata": {
    "collapsed": false
   }
  },
  {
   "cell_type": "code",
   "execution_count": 8,
   "outputs": [
    {
     "data": {
      "text/plain": "169"
     },
     "execution_count": 8,
     "metadata": {},
     "output_type": "execute_result"
    }
   ],
   "source": [
    "len(images)"
   ],
   "metadata": {
    "collapsed": false
   }
  },
  {
   "cell_type": "code",
   "execution_count": 10,
   "outputs": [
    {
     "data": {
      "text/plain": "Generator(\n  (conv1dc): ConvBlock(\n    (conv): Conv2d(6, 3, kernel_size=(1, 1), stride=(1, 1))\n    (bn): InstanceNorm2d(3, eps=1e-05, momentum=0.1, affine=False, track_running_stats=False)\n    (relu): ReLU(inplace=True)\n    (lrelu): LeakyReLU(negative_slope=0.2, inplace=True)\n    (tanh): Tanh()\n  )\n  (conv1dm): ConvBlock(\n    (conv): Conv2d(6, 3, kernel_size=(1, 1), stride=(1, 1))\n    (bn): InstanceNorm2d(3, eps=1e-05, momentum=0.1, affine=False, track_running_stats=False)\n    (relu): ReLU(inplace=True)\n    (lrelu): LeakyReLU(negative_slope=0.2, inplace=True)\n    (tanh): Tanh()\n  )\n  (interpretable_conv_1): ConvBlock(\n    (conv): Conv2d(3, 16, kernel_size=(1, 1), stride=(1, 1))\n    (bn): InstanceNorm2d(16, eps=1e-05, momentum=0.1, affine=False, track_running_stats=False)\n    (relu): ReLU(inplace=True)\n    (lrelu): LeakyReLU(negative_slope=0.2, inplace=True)\n    (tanh): Tanh()\n  )\n  (interpretable_conv_2): ConvBlock(\n    (conv): Conv2d(16, 16, kernel_size=(1, 1), stride=(1, 1))\n    (bn): InstanceNorm2d(16, eps=1e-05, momentum=0.1, affine=False, track_running_stats=False)\n    (relu): ReLU(inplace=True)\n    (lrelu): LeakyReLU(negative_slope=0.2, inplace=True)\n    (tanh): Tanh()\n  )\n  (interpretable_conv_1m): ConvBlock(\n    (conv): Conv2d(3, 32, kernel_size=(1, 1), stride=(1, 1))\n    (bn): InstanceNorm2d(32, eps=1e-05, momentum=0.1, affine=False, track_running_stats=False)\n    (relu): ReLU(inplace=True)\n    (lrelu): LeakyReLU(negative_slope=0.2, inplace=True)\n    (tanh): Tanh()\n  )\n  (interpretable_conv_2m): ConvBlock(\n    (conv): Conv2d(32, 32, kernel_size=(1, 1), stride=(1, 1))\n    (bn): InstanceNorm2d(32, eps=1e-05, momentum=0.1, affine=False, track_running_stats=False)\n    (relu): ReLU(inplace=True)\n    (lrelu): LeakyReLU(negative_slope=0.2, inplace=True)\n    (tanh): Tanh()\n  )\n  (mask_downconv): ConvBlock(\n    (conv): Conv2d(32, 3, kernel_size=(1, 1), stride=(1, 1))\n    (bn): InstanceNorm2d(3, eps=1e-05, momentum=0.1, affine=False, track_running_stats=False)\n    (relu): ReLU(inplace=True)\n    (lrelu): LeakyReLU(negative_slope=0.2, inplace=True)\n    (tanh): Tanh()\n  )\n  (mask_layer_merge): ConvBlock(\n    (conv): Conv2d(6, 3, kernel_size=(1, 1), stride=(1, 1))\n    (bn): InstanceNorm2d(3, eps=1e-05, momentum=0.1, affine=False, track_running_stats=False)\n    (relu): ReLU(inplace=True)\n    (lrelu): LeakyReLU(negative_slope=0.2, inplace=True)\n    (tanh): Tanh()\n  )\n  (pad): ReflectionPad2d((3, 3, 3, 3))\n  (pad1): ReflectionPad2d((1, 1, 1, 1))\n  (conv1): ConvBlock(\n    (conv): Conv2d(16, 32, kernel_size=(7, 7), stride=(1, 1))\n    (bn): InstanceNorm2d(32, eps=1e-05, momentum=0.1, affine=False, track_running_stats=False)\n    (relu): ReLU(inplace=True)\n    (lrelu): LeakyReLU(negative_slope=0.2, inplace=True)\n    (tanh): Tanh()\n  )\n  (conv2): ConvBlock(\n    (conv): Conv2d(32, 64, kernel_size=(3, 3), stride=(2, 2), padding=(1, 1))\n    (bn): InstanceNorm2d(64, eps=1e-05, momentum=0.1, affine=False, track_running_stats=False)\n    (relu): ReLU(inplace=True)\n    (lrelu): LeakyReLU(negative_slope=0.2, inplace=True)\n    (tanh): Tanh()\n  )\n  (conv3): ConvBlock(\n    (conv): Conv2d(64, 128, kernel_size=(3, 3), stride=(2, 2), padding=(1, 1))\n    (bn): InstanceNorm2d(128, eps=1e-05, momentum=0.1, affine=False, track_running_stats=False)\n    (relu): ReLU(inplace=True)\n    (lrelu): LeakyReLU(negative_slope=0.2, inplace=True)\n    (tanh): Tanh()\n  )\n  (conv4): ConvBlock(\n    (conv): Conv2d(128, 256, kernel_size=(3, 3), stride=(2, 2), padding=(1, 1))\n    (bn): InstanceNorm2d(256, eps=1e-05, momentum=0.1, affine=False, track_running_stats=False)\n    (relu): ReLU(inplace=True)\n    (lrelu): LeakyReLU(negative_slope=0.2, inplace=True)\n    (tanh): Tanh()\n  )\n  (resnet_blocks): Sequential(\n    (0): ResnetBlock(\n      (resnet_block): Sequential(\n        (0): ReflectionPad2d((1, 1, 1, 1))\n        (1): Conv2d(256, 256, kernel_size=(3, 3), stride=(1, 1))\n        (2): InstanceNorm2d(256, eps=1e-05, momentum=0.1, affine=False, track_running_stats=False)\n        (3): GELU(approximate='none')\n        (4): ReflectionPad2d((1, 1, 1, 1))\n        (5): Conv2d(256, 256, kernel_size=(3, 3), stride=(1, 1))\n        (6): InstanceNorm2d(256, eps=1e-05, momentum=0.1, affine=False, track_running_stats=False)\n      )\n    )\n    (1): ResnetBlock(\n      (resnet_block): Sequential(\n        (0): ReflectionPad2d((1, 1, 1, 1))\n        (1): Conv2d(256, 256, kernel_size=(3, 3), stride=(1, 1))\n        (2): InstanceNorm2d(256, eps=1e-05, momentum=0.1, affine=False, track_running_stats=False)\n        (3): GELU(approximate='none')\n        (4): ReflectionPad2d((1, 1, 1, 1))\n        (5): Conv2d(256, 256, kernel_size=(3, 3), stride=(1, 1))\n        (6): InstanceNorm2d(256, eps=1e-05, momentum=0.1, affine=False, track_running_stats=False)\n      )\n    )\n    (2): ResnetBlock(\n      (resnet_block): Sequential(\n        (0): ReflectionPad2d((1, 1, 1, 1))\n        (1): Conv2d(256, 256, kernel_size=(3, 3), stride=(1, 1))\n        (2): InstanceNorm2d(256, eps=1e-05, momentum=0.1, affine=False, track_running_stats=False)\n        (3): GELU(approximate='none')\n        (4): ReflectionPad2d((1, 1, 1, 1))\n        (5): Conv2d(256, 256, kernel_size=(3, 3), stride=(1, 1))\n        (6): InstanceNorm2d(256, eps=1e-05, momentum=0.1, affine=False, track_running_stats=False)\n      )\n    )\n    (3): ResnetBlock(\n      (resnet_block): Sequential(\n        (0): ReflectionPad2d((1, 1, 1, 1))\n        (1): Conv2d(256, 256, kernel_size=(3, 3), stride=(1, 1))\n        (2): InstanceNorm2d(256, eps=1e-05, momentum=0.1, affine=False, track_running_stats=False)\n        (3): GELU(approximate='none')\n        (4): ReflectionPad2d((1, 1, 1, 1))\n        (5): Conv2d(256, 256, kernel_size=(3, 3), stride=(1, 1))\n        (6): InstanceNorm2d(256, eps=1e-05, momentum=0.1, affine=False, track_running_stats=False)\n      )\n    )\n    (4): ResnetBlock(\n      (resnet_block): Sequential(\n        (0): ReflectionPad2d((1, 1, 1, 1))\n        (1): Conv2d(256, 256, kernel_size=(3, 3), stride=(1, 1))\n        (2): InstanceNorm2d(256, eps=1e-05, momentum=0.1, affine=False, track_running_stats=False)\n        (3): GELU(approximate='none')\n        (4): ReflectionPad2d((1, 1, 1, 1))\n        (5): Conv2d(256, 256, kernel_size=(3, 3), stride=(1, 1))\n        (6): InstanceNorm2d(256, eps=1e-05, momentum=0.1, affine=False, track_running_stats=False)\n      )\n    )\n    (5): ResnetBlock(\n      (resnet_block): Sequential(\n        (0): ReflectionPad2d((1, 1, 1, 1))\n        (1): Conv2d(256, 256, kernel_size=(3, 3), stride=(1, 1))\n        (2): InstanceNorm2d(256, eps=1e-05, momentum=0.1, affine=False, track_running_stats=False)\n        (3): GELU(approximate='none')\n        (4): ReflectionPad2d((1, 1, 1, 1))\n        (5): Conv2d(256, 256, kernel_size=(3, 3), stride=(1, 1))\n        (6): InstanceNorm2d(256, eps=1e-05, momentum=0.1, affine=False, track_running_stats=False)\n      )\n    )\n    (6): ResnetBlock(\n      (resnet_block): Sequential(\n        (0): ReflectionPad2d((1, 1, 1, 1))\n        (1): Conv2d(256, 256, kernel_size=(3, 3), stride=(1, 1))\n        (2): InstanceNorm2d(256, eps=1e-05, momentum=0.1, affine=False, track_running_stats=False)\n        (3): GELU(approximate='none')\n        (4): ReflectionPad2d((1, 1, 1, 1))\n        (5): Conv2d(256, 256, kernel_size=(3, 3), stride=(1, 1))\n        (6): InstanceNorm2d(256, eps=1e-05, momentum=0.1, affine=False, track_running_stats=False)\n      )\n    )\n    (7): ResnetBlock(\n      (resnet_block): Sequential(\n        (0): ReflectionPad2d((1, 1, 1, 1))\n        (1): Conv2d(256, 256, kernel_size=(3, 3), stride=(1, 1))\n        (2): InstanceNorm2d(256, eps=1e-05, momentum=0.1, affine=False, track_running_stats=False)\n        (3): GELU(approximate='none')\n        (4): ReflectionPad2d((1, 1, 1, 1))\n        (5): Conv2d(256, 256, kernel_size=(3, 3), stride=(1, 1))\n        (6): InstanceNorm2d(256, eps=1e-05, momentum=0.1, affine=False, track_running_stats=False)\n      )\n    )\n  )\n  (deconv1): DeconvBlock(\n    (deconv): ConvTranspose2d(256, 128, kernel_size=(3, 3), stride=(2, 2), padding=(1, 1), output_padding=(1, 1))\n    (bn): InstanceNorm2d(128, eps=1e-05, momentum=0.1, affine=False, track_running_stats=False)\n    (leakyrelu): ELU(alpha=-1.72879524581)\n  )\n  (deconv2): DeconvBlock(\n    (deconv): ConvTranspose2d(128, 64, kernel_size=(3, 3), stride=(2, 2), padding=(1, 1), output_padding=(1, 1))\n    (bn): InstanceNorm2d(64, eps=1e-05, momentum=0.1, affine=False, track_running_stats=False)\n    (leakyrelu): ELU(alpha=-1.72879524581)\n  )\n  (deconv3): DeconvBlock(\n    (deconv): ConvTranspose2d(64, 32, kernel_size=(3, 3), stride=(2, 2), padding=(1, 1), output_padding=(1, 1))\n    (bn): InstanceNorm2d(32, eps=1e-05, momentum=0.1, affine=False, track_running_stats=False)\n    (leakyrelu): ELU(alpha=-1.72879524581)\n  )\n  (deconv4): ConvBlock(\n    (conv): Conv2d(32, 32, kernel_size=(7, 7), stride=(1, 1))\n    (bn): InstanceNorm2d(32, eps=1e-05, momentum=0.1, affine=False, track_running_stats=False)\n    (relu): ReLU(inplace=True)\n    (lrelu): LeakyReLU(negative_slope=0.2, inplace=True)\n    (tanh): Tanh()\n  )\n  (correction): ConvBlock(\n    (conv): Conv2d(32, 32, kernel_size=(3, 3), stride=(1, 1))\n    (bn): InstanceNorm2d(32, eps=1e-05, momentum=0.1, affine=False, track_running_stats=False)\n    (relu): ReLU(inplace=True)\n    (lrelu): LeakyReLU(negative_slope=0.2, inplace=True)\n    (tanh): Tanh()\n  )\n  (final): ConvBlock(\n    (conv): Conv2d(32, 3, kernel_size=(3, 3), stride=(1, 1))\n    (bn): InstanceNorm2d(3, eps=1e-05, momentum=0.1, affine=False, track_running_stats=False)\n    (relu): ReLU(inplace=True)\n    (lrelu): LeakyReLU(negative_slope=0.2, inplace=True)\n    (tanh): Tanh()\n  )\n  (unsharp_filter): UnsharpMask()\n)"
     },
     "execution_count": 10,
     "metadata": {},
     "output_type": "execute_result"
    }
   ],
   "source": [
    "model = torch.load('../data/model_checkpoint_exp_15.pth')\n",
    "gen = Generator(32, 8).to(device)\n",
    "gen.load_state_dict(model['generator_he_to_p63_state_dict'])\n",
    "gen.eval()"
   ],
   "metadata": {
    "collapsed": false
   }
  },
  {
   "cell_type": "code",
   "execution_count": 20,
   "outputs": [],
   "source": [
    "codes = []\n",
    "with torch.no_grad():\n",
    "    for image in images:\n",
    "        mask = get_mask_noise(image).to(device)\n",
    "        _ = gen(image, mask)\n",
    "        code = gen.get_resnet_transformed()\n",
    "        codes.append(code.detach().cpu().numpy())"
   ],
   "metadata": {
    "collapsed": false
   }
  },
  {
   "cell_type": "code",
   "execution_count": 23,
   "outputs": [],
   "source": [
    "codes = np.array(codes).squeeze()"
   ],
   "metadata": {
    "collapsed": false
   }
  },
  {
   "cell_type": "code",
   "execution_count": 25,
   "outputs": [],
   "source": [
    "codes_2d = codes.reshape(codes.shape[0], codes.shape[1] * codes.shape[2] * codes.shape[3])"
   ],
   "metadata": {
    "collapsed": false
   }
  },
  {
   "cell_type": "code",
   "execution_count": 26,
   "outputs": [],
   "source": [
    "pca = PCA(n_components=2)\n",
    "pca_results = pca.fit_transform(codes_2d)"
   ],
   "metadata": {
    "collapsed": false
   }
  },
  {
   "cell_type": "code",
   "execution_count": 27,
   "outputs": [
    {
     "name": "stdout",
     "output_type": "stream",
     "text": [
      "[t-SNE] Computing 91 nearest neighbors...\n",
      "[t-SNE] Indexed 169 samples in 0.000s...\n",
      "[t-SNE] Computed neighbors for 169 samples in 0.005s...\n",
      "[t-SNE] Computed conditional probabilities for sample 169 / 169\n",
      "[t-SNE] Mean sigma: 146.316878\n",
      "[t-SNE] KL divergence after 250 iterations with early exaggeration: 58.173489\n",
      "[t-SNE] KL divergence after 800 iterations: 0.200458\n"
     ]
    }
   ],
   "source": [
    "tsne = TSNE(n_components=2, perplexity=30, n_iter=1000, verbose=1)\n",
    "tsne_results = tsne.fit_transform(pca_results)"
   ],
   "metadata": {
    "collapsed": false
   }
  },
  {
   "cell_type": "code",
   "execution_count": 28,
   "outputs": [
    {
     "name": "stderr",
     "output_type": "stream",
     "text": [
      "G:\\System\\Temp\\ipykernel_8236\\1981288613.py:3: UserWarning: Ignoring `palette` because no `hue` variable has been assigned.\n",
      "  sns.scatterplot(\n"
     ]
    },
    {
     "data": {
      "text/plain": "<Figure size 1170x827 with 1 Axes>",
      "image/png": "[encoded data removed]"
     },
     "metadata": {},
     "output_type": "display_data"
    }
   ],
   "source": [
    "sns.set(rc={'figure.figsize':(11.7,8.27)})\n",
    "palette = sns.color_palette(\"bright\", 10)\n",
    "sns.scatterplot(\n",
    "    x=tsne_results[:,0], y=tsne_results[:,1],\n",
    "    palette=palette\n",
    ")\n",
    "plt.show()"
   ],
   "metadata": {
    "collapsed": false
   }
  },
  {
   "cell_type": "code",
   "execution_count": null,
   "outputs": [],
   "source": [],
   "metadata": {
    "collapsed": false
   }
  }
 ],
 "metadata": {
  "kernelspec": {
   "display_name": "Python 3",
   "language": "python",
   "name": "python3"
  },
  "language_info": {
   "codemirror_mode": {
    "name": "ipython",
    "version": 2
   },
   "file_extension": ".py",
   "mimetype": "text/x-python",
   "name": "python",
   "nbconvert_exporter": "python",
   "pygments_lexer": "ipython2",
   "version": "2.7.6"
  }
 },
 "nbformat": 4,
 "nbformat_minor": 0
}
