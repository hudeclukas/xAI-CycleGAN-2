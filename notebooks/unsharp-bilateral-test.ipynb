{
 "cells": [
  {
   "cell_type": "code",
   "execution_count": 17,
   "metadata": {
    "collapsed": true
   },
   "outputs": [],
   "source": [
    "import kornia\n",
    "import torch\n",
    "from kornia.core.check import KORNIA_CHECK_SHAPE\n",
    "from kornia.filters.kernels import _unpack_2d_ks, get_gaussian_kernel2d\n",
    "from kornia.filters.median import _compute_zero_padding\n",
    "from kornia.core import Tensor, pad\n",
    "from typing import Union, Tuple\n",
    "import numpy as np\n",
    "from PIL import Image"
   ]
  },
  {
   "cell_type": "code",
   "execution_count": 2,
   "outputs": [],
   "source": [
    "def joint_bilateral_blur(\n",
    "    inp: Tensor,\n",
    "    guidance: Union[Tensor, None],\n",
    "    kernel_size: Union[Tuple[int, int], int],\n",
    "    sigma_color: Union[float, Tensor],\n",
    "    sigma_space: Union[Tuple[float, float], Tensor],\n",
    "    border_type: str = 'reflect',\n",
    "    color_distance_type: str = 'l1',\n",
    ") -> Tensor:\n",
    "    \"Single implementation for both Bilateral Filter and Joint Bilateral Filter\"\n",
    "\n",
    "    if isinstance(sigma_color, Tensor):\n",
    "        KORNIA_CHECK_SHAPE(sigma_color, ['B'])\n",
    "        sigma_color = sigma_color.to(device=inp.device, dtype=inp.dtype).view(-1, 1, 1, 1, 1)\n",
    "\n",
    "    kx, ky = _unpack_2d_ks(kernel_size)\n",
    "    pad_x, pad_y = _compute_zero_padding(kernel_size)\n",
    "\n",
    "    padded_input = pad(inp, (pad_x, pad_x, pad_y, pad_y), mode=border_type)\n",
    "    unfolded_input = padded_input.unfold(2, ky, 1).unfold(3, kx, 1).flatten(-2)  # (B, C, H, W, K x K)\n",
    "\n",
    "    if guidance is None:\n",
    "        guidance = inp\n",
    "        unfolded_guidance = unfolded_input\n",
    "    else:\n",
    "        padded_guidance = pad(guidance, (pad_x, pad_x, pad_y, pad_y), mode=border_type)\n",
    "        unfolded_guidance = padded_guidance.unfold(2, ky, 1).unfold(3, kx, 1).flatten(-2)  # (B, C, H, W, K x K)\n",
    "\n",
    "    diff = unfolded_guidance - guidance.unsqueeze(-1)\n",
    "    if color_distance_type == \"l1\":\n",
    "        color_distance_sq = diff.abs().sum(1, keepdim=True).square()\n",
    "    elif color_distance_type == \"l2\":\n",
    "        color_distance_sq = diff.square().sum(1, keepdim=True)\n",
    "    else:\n",
    "        raise ValueError(\"color_distance_type only acceps l1 or l2\")\n",
    "    color_kernel = (-0.5 / sigma_color**2 * color_distance_sq).exp()  # (B, 1, H, W, K x K)\n",
    "\n",
    "    space_kernel = get_gaussian_kernel2d(kernel_size, sigma_space, device=inp.device, dtype=inp.dtype)\n",
    "    space_kernel = space_kernel.view(-1, 1, 1, 1, kx * ky)\n",
    "\n",
    "    kernel = space_kernel * color_kernel\n",
    "    out = (unfolded_input * kernel).sum(-1) / kernel.sum(-1)\n",
    "    return out"
   ],
   "metadata": {
    "collapsed": false
   }
  },
  {
   "cell_type": "code",
   "execution_count": 35,
   "outputs": [],
   "source": [
    "unsharp_filter = kornia.filters.UnsharpMask((5, 5), (1.5, 1.5))\n",
    "guided_blur = lambda inp, gui: joint_bilateral_blur(inp, gui, (5, 5), 0.1, (1.5, 1.5))"
   ],
   "metadata": {
    "collapsed": false
   }
  },
  {
   "cell_type": "code",
   "execution_count": 25,
   "outputs": [],
   "source": [
    "img = Image.open('he.png').convert('RGB').resize((256, 256))\n",
    "img = np.array(img)"
   ],
   "metadata": {
    "collapsed": false
   }
  },
  {
   "cell_type": "code",
   "execution_count": 26,
   "outputs": [],
   "source": [
    "# convert to tensor\n",
    "img = kornia.image_to_tensor(img, keepdim=True)"
   ],
   "metadata": {
    "collapsed": false
   }
  },
  {
   "cell_type": "code",
   "execution_count": 36,
   "outputs": [],
   "source": [
    "blurred = guided_blur(img.expand(1, -1, -1, -1).type(torch.float32), img.expand(1, -1, -1, -1).type(torch.float32))\n",
    "blurred = kornia.tensor_to_image(blurred)\n",
    "blurred = Image.fromarray(blurred.astype(np.uint8))\n",
    "blurred.show()"
   ],
   "metadata": {
    "collapsed": false
   }
  },
  {
   "cell_type": "code",
   "execution_count": 27,
   "outputs": [],
   "source": [
    "unsharped = unsharp_filter(img.expand(1, -1, -1, -1).type(torch.float32))"
   ],
   "metadata": {
    "collapsed": false
   }
  },
  {
   "cell_type": "code",
   "execution_count": 28,
   "outputs": [
    {
     "data": {
      "text/plain": "torch.Size([1, 3, 256, 256])"
     },
     "execution_count": 28,
     "metadata": {},
     "output_type": "execute_result"
    }
   ],
   "source": [
    "unsharped.shape"
   ],
   "metadata": {
    "collapsed": false
   }
  },
  {
   "cell_type": "code",
   "execution_count": 29,
   "outputs": [],
   "source": [
    "# tensor back to image and display it\n",
    "unsharped = kornia.tensor_to_image(unsharped)"
   ],
   "metadata": {
    "collapsed": false
   }
  },
  {
   "cell_type": "code",
   "execution_count": 30,
   "outputs": [
    {
     "data": {
      "text/plain": "(256, 256, 3)"
     },
     "execution_count": 30,
     "metadata": {},
     "output_type": "execute_result"
    }
   ],
   "source": [
    "unsharped.shape"
   ],
   "metadata": {
    "collapsed": false
   }
  },
  {
   "cell_type": "code",
   "execution_count": 31,
   "outputs": [],
   "source": [
    "unsharped = Image.fromarray(unsharped.astype(np.uint8))"
   ],
   "metadata": {
    "collapsed": false
   }
  },
  {
   "cell_type": "code",
   "execution_count": 33,
   "outputs": [],
   "source": [
    "unsharped.show()"
   ],
   "metadata": {
    "collapsed": false
   }
  },
  {
   "cell_type": "code",
   "execution_count": null,
   "outputs": [],
   "source": [],
   "metadata": {
    "collapsed": false
   }
  }
 ],
 "metadata": {
  "kernelspec": {
   "display_name": "Python 3",
   "language": "python",
   "name": "python3"
  },
  "language_info": {
   "codemirror_mode": {
    "name": "ipython",
    "version": 2
   },
   "file_extension": ".py",
   "mimetype": "text/x-python",
   "name": "python",
   "nbconvert_exporter": "python",
   "pygments_lexer": "ipython2",
   "version": "2.7.6"
  }
 },
 "nbformat": 4,
 "nbformat_minor": 0
}
